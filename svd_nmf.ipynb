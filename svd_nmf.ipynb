{
 "cells": [
  {
   "cell_type": "markdown",
   "metadata": {
    "toc": true
   },
   "source": [
    "<h1>Table of Contents<span class=\"tocSkip\"></span></h1>\n",
    "<div class=\"toc\"><ul class=\"toc-item\"><li><span><a href=\"#Morning-session\" data-toc-modified-id=\"Morning-session-1\"><span class=\"toc-item-num\">1&nbsp;&nbsp;</span>Morning session</a></span><ul class=\"toc-item\"><li><span><a href=\"#PCA-review\" data-toc-modified-id=\"PCA-review-1.1\"><span class=\"toc-item-num\">1.1&nbsp;&nbsp;</span>PCA review</a></span></li><li><span><a href=\"#Revisit-matrix-from-the-perspective-of-space\" data-toc-modified-id=\"Revisit-matrix-from-the-perspective-of-space-1.2\"><span class=\"toc-item-num\">1.2&nbsp;&nbsp;</span>Revisit matrix from the perspective of space</a></span><ul class=\"toc-item\"><li><span><a href=\"#Brutal-force-decomposition-a-single-image.\" data-toc-modified-id=\"Brutal-force-decomposition-a-single-image.-1.2.1\"><span class=\"toc-item-num\">1.2.1&nbsp;&nbsp;</span>Brutal force decomposition a single image.</a></span></li></ul></li><li><span><a href=\"#Singular-value-decomposition-as-matrix-factorization\" data-toc-modified-id=\"Singular-value-decomposition-as-matrix-factorization-1.3\"><span class=\"toc-item-num\">1.3&nbsp;&nbsp;</span>Singular value decomposition as matrix factorization</a></span><ul class=\"toc-item\"><li><span><a href=\"#Mathematics\" data-toc-modified-id=\"Mathematics-1.3.1\"><span class=\"toc-item-num\">1.3.1&nbsp;&nbsp;</span>Mathematics</a></span><ul class=\"toc-item\"><li><span><a href=\"#Orthogonal-matrix\" data-toc-modified-id=\"Orthogonal-matrix-1.3.1.1\"><span class=\"toc-item-num\">1.3.1.1&nbsp;&nbsp;</span>Orthogonal matrix</a></span></li><li><span><a href=\"#Rank-of-a-matrix\" data-toc-modified-id=\"Rank-of-a-matrix-1.3.1.2\"><span class=\"toc-item-num\">1.3.1.2&nbsp;&nbsp;</span>Rank of a matrix</a></span></li><li><span><a href=\"#Power-(energy)\" data-toc-modified-id=\"Power-(energy)-1.3.1.3\"><span class=\"toc-item-num\">1.3.1.3&nbsp;&nbsp;</span>Power (energy)</a></span></li></ul></li><li><span><a href=\"#Intuition-and-physical-implications\" data-toc-modified-id=\"Intuition-and-physical-implications-1.3.2\"><span class=\"toc-item-num\">1.3.2&nbsp;&nbsp;</span>Intuition and physical implications</a></span></li><li><span><a href=\"#Example-1-by-Facebook-Research\" data-toc-modified-id=\"Example-1-by-Facebook-Research-1.3.3\"><span class=\"toc-item-num\">1.3.3&nbsp;&nbsp;</span>Example 1 by Facebook <a href=\"https://research.fb.com/fast-randomized-svd/\" target=\"_blank\">Research</a></a></span></li><li><span><a href=\"#Example-2:-Movie-reviews.\" data-toc-modified-id=\"Example-2:-Movie-reviews.-1.3.4\"><span class=\"toc-item-num\">1.3.4&nbsp;&nbsp;</span>Example 2: Movie reviews.</a></span></li><li><span><a href=\"#Example-3:-Thought-experiments\" data-toc-modified-id=\"Example-3:-Thought-experiments-1.3.5\"><span class=\"toc-item-num\">1.3.5&nbsp;&nbsp;</span>Example 3: Thought experiments</a></span></li><li><span><a href=\"#Visualization\" data-toc-modified-id=\"Visualization-1.3.6\"><span class=\"toc-item-num\">1.3.6&nbsp;&nbsp;</span>Visualization</a></span></li></ul></li></ul></li><li><span><a href=\"#Afternoon-session\" data-toc-modified-id=\"Afternoon-session-2\"><span class=\"toc-item-num\">2&nbsp;&nbsp;</span>Afternoon session</a></span><ul class=\"toc-item\"><li><span><a href=\"#Topic-modeling\" data-toc-modified-id=\"Topic-modeling-2.1\"><span class=\"toc-item-num\">2.1&nbsp;&nbsp;</span>Topic modeling</a></span></li><li><span><a href=\"#Non-negative-Matrix-Factorization\" data-toc-modified-id=\"Non-negative-Matrix-Factorization-2.2\"><span class=\"toc-item-num\">2.2&nbsp;&nbsp;</span>Non-negative Matrix Factorization</a></span><ul class=\"toc-item\"><li><span><a href=\"#Mathematics\" data-toc-modified-id=\"Mathematics-2.2.1\"><span class=\"toc-item-num\">2.2.1&nbsp;&nbsp;</span>Mathematics</a></span></li><li><span><a href=\"#Solve-NMF\" data-toc-modified-id=\"Solve-NMF-2.2.2\"><span class=\"toc-item-num\">2.2.2&nbsp;&nbsp;</span>Solve NMF</a></span><ul class=\"toc-item\"><li><span><a href=\"#Least-square-solver\" data-toc-modified-id=\"Least-square-solver-2.2.2.1\"><span class=\"toc-item-num\">2.2.2.1&nbsp;&nbsp;</span>Least square solver</a></span></li><li><span><a href=\"#Non-negative-least-squares-solver\" data-toc-modified-id=\"Non-negative-least-squares-solver-2.2.2.2\"><span class=\"toc-item-num\">2.2.2.2&nbsp;&nbsp;</span>Non-negative least-squares solver</a></span></li></ul></li><li><span><a href=\"#Iterative-Approach\" data-toc-modified-id=\"Iterative-Approach-2.2.3\"><span class=\"toc-item-num\">2.2.3&nbsp;&nbsp;</span>Iterative Approach</a></span></li></ul></li><li><span><a href=\"#Redo-the-movie-recommendation.\" data-toc-modified-id=\"Redo-the-movie-recommendation.-2.3\"><span class=\"toc-item-num\">2.3&nbsp;&nbsp;</span>Redo the movie recommendation.</a></span></li><li><span><a href=\"#Example-with-TFIDF-matrix.\" data-toc-modified-id=\"Example-with-TFIDF-matrix.-2.4\"><span class=\"toc-item-num\">2.4&nbsp;&nbsp;</span>Example with TFIDF matrix.</a></span></li><li><span><a href=\"#Comparing-matrix-factorizations\" data-toc-modified-id=\"Comparing-matrix-factorizations-2.5\"><span class=\"toc-item-num\">2.5&nbsp;&nbsp;</span>Comparing matrix factorizations</a></span><ul class=\"toc-item\"><li><span><a href=\"#Advantage-of-NMF\" data-toc-modified-id=\"Advantage-of-NMF-2.5.1\"><span class=\"toc-item-num\">2.5.1&nbsp;&nbsp;</span>Advantage of NMF</a></span></li></ul></li><li><span><a href=\"#The-concept-of-collaborative-filtering\" data-toc-modified-id=\"The-concept-of-collaborative-filtering-2.6\"><span class=\"toc-item-num\">2.6&nbsp;&nbsp;</span>The concept of <a href=\"https://en.wikipedia.org/wiki/Collaborative_filtering\" target=\"_blank\">collaborative filtering</a></a></span></li></ul></li><li><span><a href=\"#Extra:\" data-toc-modified-id=\"Extra:-3\"><span class=\"toc-item-num\">3&nbsp;&nbsp;</span>Extra:</a></span><ul class=\"toc-item\"><li><span><a href=\"#part-1:-The-family-of-trillion-dollar-algorithms\" data-toc-modified-id=\"part-1:-The-family-of-trillion-dollar-algorithms-3.1\"><span class=\"toc-item-num\">3.1&nbsp;&nbsp;</span>part 1: The family of <code>trillion dollar algorithms</code></a></span></li><li><span><a href=\"#Part-2:-Embedding/encoding-everything\" data-toc-modified-id=\"Part-2:-Embedding/encoding-everything-3.2\"><span class=\"toc-item-num\">3.2&nbsp;&nbsp;</span>Part 2: Embedding/encoding everything</a></span></li></ul></li></ul></div>"
   ]
  },
  {
   "cell_type": "markdown",
   "metadata": {},
   "source": [
    "# Singular Value Decomposition and Non-Negative Matrix Factorization\n",
    "> A Watts between Linear Algebra and Jeff Bezos\n",
    "\n"
   ]
  },
  {
   "cell_type": "markdown",
   "metadata": {},
   "source": [
    "## Morning session"
   ]
  },
  {
   "cell_type": "markdown",
   "metadata": {},
   "source": [
    "### PCA review"
   ]
  },
  {
   "cell_type": "markdown",
   "metadata": {},
   "source": [
    "<img src=\"https://i.stack.imgur.com/Q7HIP.gif\" width=\"750\" align=\"center\">\n",
    "\n",
    "[Image source](http://stats.stackexchange.com/a/140579/74500)"
   ]
  },
  {
   "cell_type": "markdown",
   "metadata": {},
   "source": [
    "1. The number of data points is much more than the number of dimension.\n",
    "2. And yet, the number of dimension is too large for us, such that we want to find low-dimension representation of each data point."
   ]
  },
  {
   "cell_type": "markdown",
   "metadata": {},
   "source": [
    "Quick reproduction of PCA example yesterday."
   ]
  },
  {
   "cell_type": "code",
   "execution_count": 131,
   "metadata": {},
   "outputs": [],
   "source": [
    "import numpy as np\n",
    "import pandas as pd\n",
    "import matplotlib.pyplot as plt\n",
    "np.random.seed(2021)"
   ]
  },
  {
   "cell_type": "code",
   "execution_count": 132,
   "metadata": {},
   "outputs": [
    {
     "data": {
      "image/png": "[encoded data removed]",
      "text/plain": [
       "<Figure size 360x360 with 1 Axes>"
      ]
     },
     "metadata": {
      "needs_background": "light"
     },
     "output_type": "display_data"
    }
   ],
   "source": [
    "def random_data_set(n):\n",
    "    theta = np.random.uniform(low=0, high=2*np.pi)\n",
    "    rotation = np.array([[np.cos(theta), np.sin(theta)], \n",
    "                         [-np.sin(theta), np.cos(theta)]])\n",
    "    data = np.column_stack([np.random.normal(size=n), 2*np.random.normal(size=n)])\n",
    "    rotated_data = data @ rotation\n",
    "    return rotated_data\n",
    "X = random_data_set(n=50)\n",
    "X[:5, :]\n",
    "\n",
    "fig, ax = plt.subplots(1, figsize=(5, 5))\n",
    "ax.scatter(X[:, 0], X[:, 1])\n",
    "ax.set_title(\"Original X\");"
   ]
  },
  {
   "cell_type": "code",
   "execution_count": 133,
   "metadata": {},
   "outputs": [
    {
     "data": {
      "image/png": "[encoded data removed]",
      "text/plain": [
       "<Figure size 360x360 with 1 Axes>"
      ]
     },
     "metadata": {
      "needs_background": "light"
     },
     "output_type": "display_data"
    }
   ],
   "source": [
    "fig, ax = plt.subplots(1, figsize=(5, 5))\n",
    "X_centered = X - np.mean(X, axis=0)\n",
    "ax.scatter(X_centered[:, 0], X_centered[:, 1])\n",
    "ax.set_title(\"Centered X\");"
   ]
  },
  {
   "cell_type": "markdown",
   "metadata": {},
   "source": [
    "The covariance matrix of the sample is $M = \\displaystyle\\frac{1}{n} X^t X^{}$.\n",
    "\n",
    " $v^t M v = \\displaystyle\\frac{1}{n} v^t X^t X v \\approx norm(Xv) \\geq 0$."
   ]
  },
  {
   "cell_type": "code",
   "execution_count": 134,
   "metadata": {
    "scrolled": true
   },
   "outputs": [
    {
     "data": {
      "text/plain": [
       "array([[ 1.93131619, -1.40683312],\n",
       "       [-1.40683312,  3.04585097]])"
      ]
     },
     "execution_count": 134,
     "metadata": {},
     "output_type": "execute_result"
    }
   ],
   "source": [
    "M = X.T @ X * (1/float(X.shape[0]))\n",
    "M"
   ]
  },
  {
   "cell_type": "code",
   "execution_count": 135,
   "metadata": {},
   "outputs": [
    {
     "name": "stdout",
     "output_type": "stream",
     "text": [
      "The eigenvectors of M are:\n",
      "[[-0.82712595  0.56201661]\n",
      " [-0.56201661 -0.82712595]]\n",
      "The eigenvlaues of M are [0.9753994  4.00176776]\n"
     ]
    }
   ],
   "source": [
    "e_values, e_vectors = np.linalg.eig(M)\n",
    "print(\"The eigenvectors of M are:\")\n",
    "print(e_vectors)\n",
    "print(\"The eigenvlaues of M are {}\".format(e_values))"
   ]
  },
  {
   "cell_type": "code",
   "execution_count": 136,
   "metadata": {},
   "outputs": [
    {
     "data": {
      "text/plain": [
       "array([[-0.82712595,  0.56201661],\n",
       "       [-0.56201661, -0.82712595]])"
      ]
     },
     "execution_count": 136,
     "metadata": {},
     "output_type": "execute_result"
    }
   ],
   "source": [
    "e_vectors"
   ]
  },
  {
   "cell_type": "markdown",
   "metadata": {},
   "source": [
    "The **eigenvectors** of $M$ are vectors $v$ that satisfy a relationship like:\n",
    "\n",
    "$$ M v = \\lambda v $$\n",
    "\n",
    "I.e., the matrix $M$ acts as a **PURE scaling** on the vector $v$.\n",
    "\n",
    "Therefore, \n",
    "\n",
    "$$ M = \\lambda v v^{-1} = v \\lambda v^{-1} $$\n",
    "\n",
    "Considering both eigenvectors. Note that this is a historical example, the actual numbers may not agree with the one that the code generates.\n",
    "\n",
    "$$ \\begin{pmatrix} 4.93860704 & 0.92541548 \\\\ 0.92541548 & 1.13810041 \\end{pmatrix} = \\begin{pmatrix} 0.97443698 & -0.22466101 \\\\ 0.22466101 & 0.97443698 \\end{pmatrix} \\begin{pmatrix} 5.1519659 & 0 \\\\ 0 & 0.92474154 \\end{pmatrix} \\begin{pmatrix} 0.97443698 & -0.22466101 \\\\ 0.22466101 & 0.97443698 \\end{pmatrix}^{-1}  $$"
   ]
  },
  {
   "cell_type": "markdown",
   "metadata": {},
   "source": [
    "Verify it."
   ]
  },
  {
   "cell_type": "code",
   "execution_count": 137,
   "metadata": {},
   "outputs": [
    {
     "data": {
      "text/plain": [
       "array([[ 1.93131619, -1.40683312],\n",
       "       [-1.40683312,  3.04585097]])"
      ]
     },
     "execution_count": 137,
     "metadata": {},
     "output_type": "execute_result"
    }
   ],
   "source": [
    "e_vectors @ np.array([[e_values[0],0],[0,e_values[1]]]) @ np.linalg.inv(e_vectors)"
   ]
  },
  {
   "cell_type": "code",
   "execution_count": 138,
   "metadata": {},
   "outputs": [
    {
     "data": {
      "text/plain": [
       "array([[ 1.93131619, -1.40683312],\n",
       "       [-1.40683312,  3.04585097]])"
      ]
     },
     "execution_count": 138,
     "metadata": {},
     "output_type": "execute_result"
    }
   ],
   "source": [
    "M"
   ]
  },
  {
   "cell_type": "markdown",
   "metadata": {},
   "source": [
    "> The **inverse** of `e_vectors` is the same as its **transpose**.\n",
    "This is a consequence of **normalization** and the **orthogonality** of eigenvectors. \n",
    "\n",
    "$$ M = \\lambda v v^{-1} =  v \\lambda v^{-1} = v \\lambda v^{T} $$"
   ]
  },
  {
   "cell_type": "code",
   "execution_count": 139,
   "metadata": {},
   "outputs": [
    {
     "data": {
      "text/plain": [
       "array([[ 1.93131619, -1.40683312],\n",
       "       [-1.40683312,  3.04585097]])"
      ]
     },
     "execution_count": 139,
     "metadata": {},
     "output_type": "execute_result"
    }
   ],
   "source": [
    "e_vectors @ np.array([[e_values[0],0],[0,e_values[1]]])@ e_vectors.T"
   ]
  },
  {
   "cell_type": "code",
   "execution_count": 140,
   "metadata": {},
   "outputs": [
    {
     "data": {
      "text/plain": [
       "0.0"
      ]
     },
     "execution_count": 140,
     "metadata": {},
     "output_type": "execute_result"
    }
   ],
   "source": [
    "# Orthogonality\n",
    "np.dot(e_vectors[:,0],e_vectors[:,1])"
   ]
  },
  {
   "cell_type": "code",
   "execution_count": 141,
   "metadata": {},
   "outputs": [
    {
     "data": {
      "text/plain": [
       "1.0"
      ]
     },
     "execution_count": 141,
     "metadata": {},
     "output_type": "execute_result"
    }
   ],
   "source": [
    "# Normality\n",
    "assert(np.linalg.norm(e_vectors[:,0]) == np.linalg.norm(e_vectors[:,1]))\n",
    "np.linalg.norm(e_vectors[:,0])"
   ]
  },
  {
   "cell_type": "code",
   "execution_count": 142,
   "metadata": {},
   "outputs": [
    {
     "data": {
      "image/png": "[encoded data removed]",
      "text/plain": [
       "<Figure size 720x432 with 4 Axes>"
      ]
     },
     "metadata": {
      "needs_background": "light"
     },
     "output_type": "display_data"
    }
   ],
   "source": [
    "fig, axs = plt.subplots(2, 2, figsize=(10, 6), )\n",
    "\n",
    "coord_vectors = np.array([[1, 0], [0, 1]])\n",
    "coord_image = M @ coord_vectors\n",
    "e_image = M @ e_vectors\n",
    "\n",
    "# Set coordinate ranges to the maximal possible arrow position\n",
    "max_coord = max(np.max(coord_vectors), np.max(coord_image), np.max(e_image))\n",
    "for ax in axs.flatten():\n",
    "    ax.set_xlim(-max_coord - 0.5, max_coord + 0.5)\n",
    "    ax.set_ylim(-max_coord - 0.5, max_coord + 0.5)\n",
    "    ax.set(aspect='equal')\n",
    "\n",
    "\n",
    "# Plot the coordiante vectors and thier images.\n",
    "axs[0, 0].arrow(0, 0, coord_vectors[0, 0],  coord_vectors[1, 0],\n",
    "                head_width=0.1, linewidth=3, head_length=0.2, fc='b', ec='b')\n",
    "axs[0, 0].arrow(0, 0, coord_vectors[0, 1], coord_vectors[1, 1],\n",
    "                head_width=0.1, linewidth=3, head_length=0.2, fc='g', ec='g')\n",
    "axs[0, 0].set_title(\"Coordinate Vectors\")\n",
    "axs[0, 1].arrow(0, 0, coord_image[0, 0],  coord_image[1, 0],\n",
    "                head_width=0.1, linewidth=3, head_length=0.2, fc='b', ec='b')\n",
    "axs[0, 1].arrow(0, 0, coord_image[0, 1], coord_image[1, 1],\n",
    "                head_width=0.1, linewidth=3, head_length=0.2, fc='g', ec='g')\n",
    "axs[0, 1].set_title(\"$M \\\\times$ Coordinate Vectors\")\n",
    "\n",
    "\n",
    "# Plot the eigenvectors and thier images.\n",
    "axs[1, 0].arrow(0, 0, e_vectors[0, 0],  e_vectors[1, 0],\n",
    "                head_width=0.1, linewidth=3, head_length=0.2, fc='b', ec='b')\n",
    "axs[1, 0].arrow(0, 0, e_vectors[0, 1], e_vectors[1, 1],\n",
    "                head_width=0.1, linewidth=3, head_length=0.2, fc='g', ec='g')\n",
    "axs[1, 0].set_title(\"Eigenvectors\")\n",
    "axs[1, 1].arrow(0, 0, e_image[0, 0], e_image[1, 0],\n",
    "                head_width=0.1, linewidth=3, head_length=0.2, fc='b', ec='b')\n",
    "axs[1, 1].arrow(0, 0, e_image[0, 1], e_image[1, 1],\n",
    "                head_width=0.1, linewidth=3, head_length=0.2, fc='g', ec='g')\n",
    "axs[1, 1].set_title(\"$M \\\\times$ Eigenvectors\")\n",
    "\n",
    "plt.tight_layout()"
   ]
  },
  {
   "cell_type": "markdown",
   "metadata": {},
   "source": [
    "The column vectors are linear combinations of the eigenvector."
   ]
  },
  {
   "cell_type": "markdown",
   "metadata": {},
   "source": [
    "First column vector."
   ]
  },
  {
   "cell_type": "code",
   "execution_count": 143,
   "metadata": {},
   "outputs": [
    {
     "data": {
      "text/plain": [
       "array([ 1.93131619, -1.40683312])"
      ]
     },
     "execution_count": 143,
     "metadata": {},
     "output_type": "execute_result"
    }
   ],
   "source": [
    "M[0,:]"
   ]
  },
  {
   "cell_type": "code",
   "execution_count": 144,
   "metadata": {},
   "outputs": [],
   "source": [
    "# e_vectors[0,:] * ? + e_vectors[1,:]* ?"
   ]
  },
  {
   "cell_type": "markdown",
   "metadata": {},
   "source": [
    "Second column vector."
   ]
  },
  {
   "cell_type": "code",
   "execution_count": 145,
   "metadata": {},
   "outputs": [
    {
     "data": {
      "text/plain": [
       "array([-1.40683312,  3.04585097])"
      ]
     },
     "execution_count": 145,
     "metadata": {},
     "output_type": "execute_result"
    }
   ],
   "source": [
    "M[1,:]"
   ]
  },
  {
   "cell_type": "code",
   "execution_count": 146,
   "metadata": {},
   "outputs": [],
   "source": [
    "# e_vectors[0,:] * ? + e_vectors[1,:] * ?"
   ]
  },
  {
   "cell_type": "markdown",
   "metadata": {},
   "source": [
    "If you have any other record `x_i = [feature1, feature2]`, you can project it as the combination of the two eigenvectors. "
   ]
  },
  {
   "cell_type": "markdown",
   "metadata": {},
   "source": [
    "### Revisit matrix from the perspective of space\n",
    "\n",
    "A matrix has two `spaces`, the [row space and the column space](https://en.wikipedia.org/wiki/Row_and_column_spaces)."
   ]
  },
  {
   "cell_type": "markdown",
   "metadata": {},
   "source": [
    "The row space is `spanned` by the row vectors of a matrix. The row space of this matrix is the vector space generated by linear combinations of the row vectors.\n",
    "\n",
    "<img src=\"https://upload.wikimedia.org/wikipedia/commons/thumb/a/a3/Matrix_Rows.svg/1280px-Matrix_Rows.svg.png\" width=\"20%\"> <img>\n",
    "\n",
    "Column space is `spanned` by the column vectors of a matrix. The column space of this matrix is the vector space generated by linear combinations of the column vectors.\n",
    "<img src=\"https://upload.wikimedia.org/wikipedia/commons/thumb/3/3f/Matrix_Columns.svg/1280px-Matrix_Columns.svg.png\" width=\"20%\"> <img>\n",
    "\n"
   ]
  },
  {
   "cell_type": "markdown",
   "metadata": {},
   "source": [
    "What does it mean? What's the physical meaning of the row space and column space?"
   ]
  },
  {
   "cell_type": "code",
   "execution_count": 147,
   "metadata": {},
   "outputs": [
    {
     "data": {
      "text/html": [
       "<div>\n",
       "<style scoped>\n",
       "    .dataframe tbody tr th:only-of-type {\n",
       "        vertical-align: middle;\n",
       "    }\n",
       "\n",
       "    .dataframe tbody tr th {\n",
       "        vertical-align: top;\n",
       "    }\n",
       "\n",
       "    .dataframe thead th {\n",
       "        text-align: right;\n",
       "    }\n",
       "</style>\n",
       "<table border=\"1\" class=\"dataframe\">\n",
       "  <thead>\n",
       "    <tr style=\"text-align: right;\">\n",
       "      <th></th>\n",
       "      <th>0</th>\n",
       "      <th>1</th>\n",
       "      <th>2</th>\n",
       "      <th>3</th>\n",
       "      <th>4</th>\n",
       "    </tr>\n",
       "  </thead>\n",
       "  <tbody>\n",
       "    <tr>\n",
       "      <th>0</th>\n",
       "      <td>5.1</td>\n",
       "      <td>3.5</td>\n",
       "      <td>1.4</td>\n",
       "      <td>0.2</td>\n",
       "      <td>Iris-setosa</td>\n",
       "    </tr>\n",
       "    <tr>\n",
       "      <th>1</th>\n",
       "      <td>4.9</td>\n",
       "      <td>3.0</td>\n",
       "      <td>1.4</td>\n",
       "      <td>0.2</td>\n",
       "      <td>Iris-setosa</td>\n",
       "    </tr>\n",
       "    <tr>\n",
       "      <th>2</th>\n",
       "      <td>4.7</td>\n",
       "      <td>3.2</td>\n",
       "      <td>1.3</td>\n",
       "      <td>0.2</td>\n",
       "      <td>Iris-setosa</td>\n",
       "    </tr>\n",
       "    <tr>\n",
       "      <th>3</th>\n",
       "      <td>4.6</td>\n",
       "      <td>3.1</td>\n",
       "      <td>1.5</td>\n",
       "      <td>0.2</td>\n",
       "      <td>Iris-setosa</td>\n",
       "    </tr>\n",
       "    <tr>\n",
       "      <th>4</th>\n",
       "      <td>5.0</td>\n",
       "      <td>3.6</td>\n",
       "      <td>1.4</td>\n",
       "      <td>0.2</td>\n",
       "      <td>Iris-setosa</td>\n",
       "    </tr>\n",
       "    <tr>\n",
       "      <th>5</th>\n",
       "      <td>5.4</td>\n",
       "      <td>3.9</td>\n",
       "      <td>1.7</td>\n",
       "      <td>0.4</td>\n",
       "      <td>Iris-setosa</td>\n",
       "    </tr>\n",
       "    <tr>\n",
       "      <th>6</th>\n",
       "      <td>4.6</td>\n",
       "      <td>3.4</td>\n",
       "      <td>1.4</td>\n",
       "      <td>0.3</td>\n",
       "      <td>Iris-setosa</td>\n",
       "    </tr>\n",
       "    <tr>\n",
       "      <th>7</th>\n",
       "      <td>5.0</td>\n",
       "      <td>3.4</td>\n",
       "      <td>1.5</td>\n",
       "      <td>0.2</td>\n",
       "      <td>Iris-setosa</td>\n",
       "    </tr>\n",
       "    <tr>\n",
       "      <th>8</th>\n",
       "      <td>4.4</td>\n",
       "      <td>2.9</td>\n",
       "      <td>1.4</td>\n",
       "      <td>0.2</td>\n",
       "      <td>Iris-setosa</td>\n",
       "    </tr>\n",
       "    <tr>\n",
       "      <th>9</th>\n",
       "      <td>4.9</td>\n",
       "      <td>3.1</td>\n",
       "      <td>1.5</td>\n",
       "      <td>0.1</td>\n",
       "      <td>Iris-setosa</td>\n",
       "    </tr>\n",
       "    <tr>\n",
       "      <th>10</th>\n",
       "      <td>5.4</td>\n",
       "      <td>3.7</td>\n",
       "      <td>1.5</td>\n",
       "      <td>0.2</td>\n",
       "      <td>Iris-setosa</td>\n",
       "    </tr>\n",
       "    <tr>\n",
       "      <th>11</th>\n",
       "      <td>4.8</td>\n",
       "      <td>3.4</td>\n",
       "      <td>1.6</td>\n",
       "      <td>0.2</td>\n",
       "      <td>Iris-setosa</td>\n",
       "    </tr>\n",
       "    <tr>\n",
       "      <th>12</th>\n",
       "      <td>4.8</td>\n",
       "      <td>3.0</td>\n",
       "      <td>1.4</td>\n",
       "      <td>0.1</td>\n",
       "      <td>Iris-setosa</td>\n",
       "    </tr>\n",
       "    <tr>\n",
       "      <th>13</th>\n",
       "      <td>4.3</td>\n",
       "      <td>3.0</td>\n",
       "      <td>1.1</td>\n",
       "      <td>0.1</td>\n",
       "      <td>Iris-setosa</td>\n",
       "    </tr>\n",
       "    <tr>\n",
       "      <th>14</th>\n",
       "      <td>5.8</td>\n",
       "      <td>4.0</td>\n",
       "      <td>1.2</td>\n",
       "      <td>0.2</td>\n",
       "      <td>Iris-setosa</td>\n",
       "    </tr>\n",
       "    <tr>\n",
       "      <th>15</th>\n",
       "      <td>5.7</td>\n",
       "      <td>4.4</td>\n",
       "      <td>1.5</td>\n",
       "      <td>0.4</td>\n",
       "      <td>Iris-setosa</td>\n",
       "    </tr>\n",
       "    <tr>\n",
       "      <th>16</th>\n",
       "      <td>5.4</td>\n",
       "      <td>3.9</td>\n",
       "      <td>1.3</td>\n",
       "      <td>0.4</td>\n",
       "      <td>Iris-setosa</td>\n",
       "    </tr>\n",
       "    <tr>\n",
       "      <th>17</th>\n",
       "      <td>5.1</td>\n",
       "      <td>3.5</td>\n",
       "      <td>1.4</td>\n",
       "      <td>0.3</td>\n",
       "      <td>Iris-setosa</td>\n",
       "    </tr>\n",
       "    <tr>\n",
       "      <th>18</th>\n",
       "      <td>5.7</td>\n",
       "      <td>3.8</td>\n",
       "      <td>1.7</td>\n",
       "      <td>0.3</td>\n",
       "      <td>Iris-setosa</td>\n",
       "    </tr>\n",
       "    <tr>\n",
       "      <th>19</th>\n",
       "      <td>5.1</td>\n",
       "      <td>3.8</td>\n",
       "      <td>1.5</td>\n",
       "      <td>0.3</td>\n",
       "      <td>Iris-setosa</td>\n",
       "    </tr>\n",
       "  </tbody>\n",
       "</table>\n",
       "</div>"
      ],
      "text/plain": [
       "      0    1    2    3            4\n",
       "0   5.1  3.5  1.4  0.2  Iris-setosa\n",
       "1   4.9  3.0  1.4  0.2  Iris-setosa\n",
       "2   4.7  3.2  1.3  0.2  Iris-setosa\n",
       "3   4.6  3.1  1.5  0.2  Iris-setosa\n",
       "4   5.0  3.6  1.4  0.2  Iris-setosa\n",
       "5   5.4  3.9  1.7  0.4  Iris-setosa\n",
       "6   4.6  3.4  1.4  0.3  Iris-setosa\n",
       "7   5.0  3.4  1.5  0.2  Iris-setosa\n",
       "8   4.4  2.9  1.4  0.2  Iris-setosa\n",
       "9   4.9  3.1  1.5  0.1  Iris-setosa\n",
       "10  5.4  3.7  1.5  0.2  Iris-setosa\n",
       "11  4.8  3.4  1.6  0.2  Iris-setosa\n",
       "12  4.8  3.0  1.4  0.1  Iris-setosa\n",
       "13  4.3  3.0  1.1  0.1  Iris-setosa\n",
       "14  5.8  4.0  1.2  0.2  Iris-setosa\n",
       "15  5.7  4.4  1.5  0.4  Iris-setosa\n",
       "16  5.4  3.9  1.3  0.4  Iris-setosa\n",
       "17  5.1  3.5  1.4  0.3  Iris-setosa\n",
       "18  5.7  3.8  1.7  0.3  Iris-setosa\n",
       "19  5.1  3.8  1.5  0.3  Iris-setosa"
      ]
     },
     "execution_count": 147,
     "metadata": {},
     "output_type": "execute_result"
    }
   ],
   "source": [
    "# Iris data and questions.\n",
    "pd.read_csv(\"https://archive.ics.uci.edu/ml/machine-learning-databases/iris/iris.data\",header=None).head(20)"
   ]
  },
  {
   "cell_type": "markdown",
   "metadata": {},
   "source": [
    "Let's revisit PCA by considering the space."
   ]
  },
  {
   "cell_type": "code",
   "execution_count": 148,
   "metadata": {},
   "outputs": [
    {
     "data": {
      "text/plain": [
       "(50, 2)"
      ]
     },
     "execution_count": 148,
     "metadata": {},
     "output_type": "execute_result"
    }
   ],
   "source": [
    "# X is our original artifical dataset\n",
    "X.shape"
   ]
  },
  {
   "cell_type": "code",
   "execution_count": 149,
   "metadata": {},
   "outputs": [
    {
     "data": {
      "text/plain": [
       "(2, 2)"
      ]
     },
     "execution_count": 149,
     "metadata": {},
     "output_type": "execute_result"
    }
   ],
   "source": [
    "# M is the covariance matrix we do PCA with.\n",
    "M.shape"
   ]
  },
  {
   "cell_type": "markdown",
   "metadata": {},
   "source": [
    "Which space is PCA working on?"
   ]
  },
  {
   "cell_type": "markdown",
   "metadata": {},
   "source": [
    "**The nature of PCA is a projection, or a compression of data to the `column space`.**\n",
    "\n",
    "#### Brutal force decomposition a single image.\n",
    "Or you don't **care about the matrix `spaces` at all**."
   ]
  },
  {
   "cell_type": "code",
   "execution_count": 150,
   "metadata": {},
   "outputs": [],
   "source": [
    "##    downloading Olivetti faces from https://ndownloader.figshare.com/files/5976027 to /Users/floraxu/scikit_learn_data\n",
    "from sklearn.datasets import  fetch_olivetti_faces\n",
    "dataset = fetch_olivetti_faces(shuffle=True, random_state=154)\n",
    "faces = dataset.data\n",
    "\n",
    "n_samples, n_features = faces.shape\n",
    "\n",
    "# Global centering\n",
    "faces_centered = faces - faces.mean(axis=0)\n",
    "\n",
    "# Local centering\n",
    "faces_centered -= faces_centered.mean(axis=1).reshape(n_samples, -1)"
   ]
  },
  {
   "cell_type": "code",
   "execution_count": 151,
   "metadata": {},
   "outputs": [],
   "source": [
    "image_shape = (64, 64)"
   ]
  },
  {
   "cell_type": "code",
   "execution_count": 152,
   "metadata": {},
   "outputs": [],
   "source": [
    "from matplotlib import cm\n",
    "first_face = faces_centered[0].reshape(image_shape)"
   ]
  },
  {
   "cell_type": "code",
   "execution_count": 153,
   "metadata": {},
   "outputs": [
    {
     "data": {
      "text/plain": [
       "(64, 64)"
      ]
     },
     "execution_count": 153,
     "metadata": {},
     "output_type": "execute_result"
    }
   ],
   "source": [
    "first_face.shape"
   ]
  },
  {
   "cell_type": "markdown",
   "metadata": {},
   "source": [
    "Treat image as matrix"
   ]
  },
  {
   "cell_type": "code",
   "execution_count": 154,
   "metadata": {},
   "outputs": [],
   "source": [
    "face_values, face_vectors = np.linalg.eig(first_face)\n",
    "# sort the values and vectors according to absolute values of the eigen values\n",
    "face_value_mat = np.diag(face_values)"
   ]
  },
  {
   "cell_type": "code",
   "execution_count": 155,
   "metadata": {},
   "outputs": [],
   "source": [
    "rebuilt = face_vectors @  face_value_mat @ face_vectors.T"
   ]
  },
  {
   "cell_type": "code",
   "execution_count": 156,
   "metadata": {},
   "outputs": [
    {
     "data": {
      "image/png": "[encoded data removed]",
      "text/plain": [
       "<Figure size 432x288 with 1 Axes>"
      ]
     },
     "metadata": {
      "needs_background": "light"
     },
     "output_type": "display_data"
    }
   ],
   "source": [
    "plt.imshow(first_face,cmap=\"gray\");"
   ]
  },
  {
   "cell_type": "code",
   "execution_count": 157,
   "metadata": {
    "scrolled": false
   },
   "outputs": [
    {
     "data": {
      "image/png": "[encoded data removed]",
      "text/plain": [
       "<Figure size 432x288 with 1 Axes>"
      ]
     },
     "metadata": {
      "needs_background": "light"
     },
     "output_type": "display_data"
    }
   ],
   "source": [
    "# why np.abs()?\n",
    "plt.imshow(np.abs(rebuilt),cmap=\"gray\");"
   ]
  },
  {
   "cell_type": "markdown",
   "metadata": {},
   "source": [
    "It does **not** work."
   ]
  },
  {
   "cell_type": "markdown",
   "metadata": {},
   "source": [
    "### Singular value decomposition as matrix factorization\n",
    "\n",
    "What if we not only care about the projection of records on to the feature space's span. But also care about the row space, which means the relationship between each record (iris)?"
   ]
  },
  {
   "cell_type": "code",
   "execution_count": 158,
   "metadata": {},
   "outputs": [
    {
     "data": {
      "text/html": [
       "<div>\n",
       "<style scoped>\n",
       "    .dataframe tbody tr th:only-of-type {\n",
       "        vertical-align: middle;\n",
       "    }\n",
       "\n",
       "    .dataframe tbody tr th {\n",
       "        vertical-align: top;\n",
       "    }\n",
       "\n",
       "    .dataframe thead th {\n",
       "        text-align: right;\n",
       "    }\n",
       "</style>\n",
       "<table border=\"1\" class=\"dataframe\">\n",
       "  <thead>\n",
       "    <tr style=\"text-align: right;\">\n",
       "      <th></th>\n",
       "      <th>0</th>\n",
       "      <th>1</th>\n",
       "      <th>2</th>\n",
       "      <th>3</th>\n",
       "      <th>4</th>\n",
       "    </tr>\n",
       "  </thead>\n",
       "  <tbody>\n",
       "    <tr>\n",
       "      <th>0</th>\n",
       "      <td>5.1</td>\n",
       "      <td>3.5</td>\n",
       "      <td>1.4</td>\n",
       "      <td>0.2</td>\n",
       "      <td>Iris-setosa</td>\n",
       "    </tr>\n",
       "    <tr>\n",
       "      <th>1</th>\n",
       "      <td>4.9</td>\n",
       "      <td>3.0</td>\n",
       "      <td>1.4</td>\n",
       "      <td>0.2</td>\n",
       "      <td>Iris-setosa</td>\n",
       "    </tr>\n",
       "    <tr>\n",
       "      <th>2</th>\n",
       "      <td>4.7</td>\n",
       "      <td>3.2</td>\n",
       "      <td>1.3</td>\n",
       "      <td>0.2</td>\n",
       "      <td>Iris-setosa</td>\n",
       "    </tr>\n",
       "    <tr>\n",
       "      <th>3</th>\n",
       "      <td>4.6</td>\n",
       "      <td>3.1</td>\n",
       "      <td>1.5</td>\n",
       "      <td>0.2</td>\n",
       "      <td>Iris-setosa</td>\n",
       "    </tr>\n",
       "    <tr>\n",
       "      <th>4</th>\n",
       "      <td>5.0</td>\n",
       "      <td>3.6</td>\n",
       "      <td>1.4</td>\n",
       "      <td>0.2</td>\n",
       "      <td>Iris-setosa</td>\n",
       "    </tr>\n",
       "  </tbody>\n",
       "</table>\n",
       "</div>"
      ],
      "text/plain": [
       "     0    1    2    3            4\n",
       "0  5.1  3.5  1.4  0.2  Iris-setosa\n",
       "1  4.9  3.0  1.4  0.2  Iris-setosa\n",
       "2  4.7  3.2  1.3  0.2  Iris-setosa\n",
       "3  4.6  3.1  1.5  0.2  Iris-setosa\n",
       "4  5.0  3.6  1.4  0.2  Iris-setosa"
      ]
     },
     "execution_count": 158,
     "metadata": {},
     "output_type": "execute_result"
    }
   ],
   "source": [
    "# Iris data and questions.\n",
    "pd.read_csv(\"https://archive.ics.uci.edu/ml/machine-learning-databases/iris/iris.data\",header=None).head()"
   ]
  },
  {
   "cell_type": "markdown",
   "metadata": {},
   "source": [
    "<img src=\"https://upload.wikimedia.org/wikipedia/commons/thumb/a/a3/Matrix_Rows.svg/1280px-Matrix_Rows.svg.png\" width=\"20%\"> <img>"
   ]
  },
  {
   "cell_type": "markdown",
   "metadata": {},
   "source": [
    "#### Mathematics"
   ]
  },
  {
   "cell_type": "markdown",
   "metadata": {},
   "source": [
    "**Any** $n \\times p$ real matrix $X$ can be factored as follows\n",
    "\n",
    "$$ X = U S V^T $$\n",
    "\n",
    "Where\n",
    "\n",
    "  - $U$ is a $n \\times n$ orthogonal matrix.\n",
    "  - $S$ is a $n \\times p$ matrix with non-zero entries on the diagonal *only*.\n",
    "  - $V$ is a $p \\times p$ orthogonal matrix."
   ]
  },
  {
   "cell_type": "markdown",
   "metadata": {},
   "source": [
    "##### Orthogonal matrix\n",
    "\n",
    "An **orthogonal matrix** is one with the following property:\n",
    "    \n",
    "> Any vector $v$, when multiplied by an orthogonal matrix, is simply rotated.\n",
    "\n",
    "We say that an orthogonal matrix **acts as a rotation**.\n",
    "\n",
    "It's easy to crate $2 \\times 2$ orthogonal matrices.  For any angle $\\theta$, the matrix\n",
    "\n",
    "$$ M_{\\theta} = \n",
    "\\begin{bmatrix}\n",
    "\\cos \\theta & - \\sin \\theta  \\\\       \n",
    "\\sin \\theta & \\cos \\theta \\\\\n",
    "\\end{bmatrix} $$\n",
    "\n",
    "is orthogonal.  "
   ]
  },
  {
   "cell_type": "markdown",
   "metadata": {},
   "source": [
    "So the SVD decomposition:\n",
    "    \n",
    "$$ M = U S V^T $$\n",
    "\n",
    "factors $M$ as three matrices:\n",
    "\n",
    "$Mx = U S V^T x$\n",
    "\n",
    "$My = U S V^T y$\n",
    "  - $V$ is orthogonal, hence a rotation, followed by...\n",
    "  - $S$ is quasi diagonal, so a scaling, followed by...\n",
    "  - $U$ is orthogonal, so a rotation."
   ]
  },
  {
   "cell_type": "markdown",
   "metadata": {},
   "source": [
    "![SVD decomposition](https://upload.wikimedia.org/wikipedia/commons/thumb/b/bb/Singular-Value-Decomposition.svg/960px-Singular-Value-Decomposition.svg.png)\n",
    "\n",
    "Image Source: https://en.wikipedia.org/wiki/Singular_value_decomposition"
   ]
  },
  {
   "cell_type": "markdown",
   "metadata": {},
   "source": [
    "The $S$ matrix has positive diagonal entries, these are called the **singular values** of $X$, they are closely related to eigenvalues.\n",
    "\n",
    "So, for a $4 \\times 2$ matrix $X$, the singular value matrix would look like:\n",
    "\n",
    "$$ S =  \n",
    "\\begin{bmatrix}\n",
    "\\sigma_1 & 0  \\\\       \n",
    "0 & \\sigma_2 \\\\\n",
    "0 & 0 \\\\\n",
    "0 & 0 \\\\\n",
    "\\end{bmatrix}$$\n",
    "\n",
    "and for a $6 \\times 3$ like:\n",
    "\n",
    "$$ S =  \n",
    "\\begin{bmatrix}\n",
    "\\sigma_1 & 0 & 0  \\\\       \n",
    "0 & \\sigma_2 & 0 \\\\\n",
    "0 & 0 & \\sigma_3 \\\\\n",
    "0 & 0 & 0 \\\\\n",
    "0 & 0 & 0 \\\\\n",
    "0 & 0 & 0 \\\\\n",
    "\\end{bmatrix} $$"
   ]
  },
  {
   "cell_type": "markdown",
   "metadata": {},
   "source": [
    "Recall how we used PCA to \"approximately reconstruct\" a square matrix $M$ from its first few principal components.  We can do the same thing with SVD\n",
    "\n",
    "$$ X_{} \\approx U_{} S_{k} V^T_{} $$\n",
    "\n",
    "Here, $S_{k}$ is the matrix created from $S$ by setting **all but the first $k$ singular values to zero**."
   ]
  },
  {
   "cell_type": "markdown",
   "metadata": {},
   "source": [
    "##### Rank of a matrix\n",
    "\n",
    "Strictly speaking, $ U_{} S_{k} V^T_{} $ is a `low-rank` approximation of the original matrix. \n",
    "\n",
    "Due to the limitation of time, we will skip the details. Simply speaking, a row/column rank of a matrix is the dimension that its row/column space. Check [Wikipedia](https://en.wikipedia.org/wiki/Rank_(linear_algebra)).\n",
    "\n",
    "The row rank and column rank of an arbitary matrix are always the same (not a trivial claim actually).\n",
    "\n",
    "----\n",
    "\n",
    "Example 1:\n",
    "\n",
    "![](https://wikimedia.org/api/rest_v1/media/math/render/svg/1bf2b250d0de299673e8a5538de6e7a9eeb74e42)\n",
    "\n",
    "This matrix has rank 2: the first two columns are linearly independent, so the rank is at least 2, but since the third is a linear combination of the first two (the second subtracted from the first), the three columns are linearly dependent so the rank must be less than 3.\n",
    "\n",
    "----\n",
    "\n",
    "Example 2:\n",
    "\n",
    "![](https://wikimedia.org/api/rest_v1/media/math/render/svg/fa97694618119aeec3bc66382bc7219d052beaff)\n",
    "\n",
    "This matrix has rank 1: there are nonzero columns, so the rank is positive, but any pair of columns is linearly dependent."
   ]
  },
  {
   "cell_type": "code",
   "execution_count": 159,
   "metadata": {},
   "outputs": [
    {
     "data": {
      "image/png": "[encoded data removed]",
      "text/plain": [
       "<Figure size 936x432 with 6 Axes>"
      ]
     },
     "metadata": {},
     "output_type": "display_data"
    }
   ],
   "source": [
    "ig, axs = plt.subplots(2, 3, figsize=(13, 6))\n",
    "U, S, VT = np.linalg.svd(faces_centered)\n",
    "\n",
    "for ax, dim in zip(axs.flatten(), [1, 2, 4, 10, 25, 64]):\n",
    "    S_reduced = np.zeros(faces_centered.shape)\n",
    "    np.fill_diagonal(S_reduced, S)\n",
    "    # Set all but first dim singular values equal to zero.\n",
    "    S_reduced[:, dim:] = 0\n",
    "    faces_reconstructed = U @ S_reduced @ VT\n",
    "    first_face_reconstructed = faces_reconstructed[0].reshape(image_shape)\n",
    "    ax.imshow(first_face_reconstructed, cmap=cm.gray)\n",
    "    ax.set_title(\"Face Reconstructed with {} SVD\\nComponents\".format(dim))\n",
    "    ax.set_xticks(())\n",
    "    ax.set_yticks(())\n",
    "\n",
    "plt.tight_layout()"
   ]
  },
  {
   "cell_type": "markdown",
   "metadata": {},
   "source": [
    "##### Power (energy)\n",
    "Power is the same as variance of a dimension and we can compute it simply by squaring the singular values.\n",
    "\n",
    "$$\\alpha_i = \\frac{\\sigma_i^2}{\\sum \\sigma_j^2}$$"
   ]
  },
  {
   "cell_type": "code",
   "execution_count": 160,
   "metadata": {},
   "outputs": [
    {
     "data": {
      "image/png": "[encoded data removed]",
      "text/plain": [
       "<Figure size 1152x360 with 1 Axes>"
      ]
     },
     "metadata": {
      "needs_background": "light"
     },
     "output_type": "display_data"
    }
   ],
   "source": [
    "powers = []\n",
    "power = 0\n",
    "total_power = np.sum(S**2)\n",
    "for i in S:\n",
    "    power += i**2\n",
    "    powers.append(1-power/total_power)\n",
    "plt.figure(figsize=(16,5))\n",
    "plt.plot(powers,\"o\")\n",
    "plt.ylabel(\"Remaining power\")\n",
    "plt.xlabel(\"Number of singluar values\");"
   ]
  },
  {
   "cell_type": "markdown",
   "metadata": {},
   "source": [
    "#### Intuition and physical implications\n",
    "\n",
    "> Question: What's the big deal of **SVD** then?\n",
    "\n",
    "> Answer: Instead of decomposition of the column space, SVD creates **embeddings**. And embeddings have **latent** meanings that can be interpreted.\n",
    "\n",
    "[In mathematics, an embedding is one instance of some mathematical structure contained within another instance](https://en.wikipedia.org/wiki/Embedding)."
   ]
  },
  {
   "cell_type": "markdown",
   "metadata": {},
   "source": [
    "#### Example 1 by Facebook [Research](https://research.fb.com/fast-randomized-svd/)\n",
    "\n",
    "Note that each `word` is a `row`, each `hashtag` is a `column`. In our NLP lecture, each word is a `column` and each document is a `row`.\n",
    "\n",
    "There are $m$ words and $n$ hashtags.\n",
    "\n",
    "> Note that in general matrix $\\Sigma$ is not necessarily square and it may not have diagnol values all non-zero.\n",
    "\n",
    "![image](https://research.fb.com/wp-content/uploads/2016/11/post00049_image0001.png)"
   ]
  },
  {
   "cell_type": "markdown",
   "metadata": {},
   "source": [
    "Clarify the words:\n",
    "\n",
    "1. `embedding of hashtags by the words` means the hashtags are `projected/embeded` onto each word.\n",
    "2. `embedding of words by the hashtags` means the words are `projected/embeded` onto each hashtag."
   ]
  },
  {
   "cell_type": "markdown",
   "metadata": {},
   "source": [
    "How about this element?\n",
    "\n",
    "$$A_{Fire, \\#HR}  = U_{Fire,x_1} * \\Sigma_{x_1,x_1} * V^T_{x_1, \\#HR}$$"
   ]
  },
  {
   "cell_type": "markdown",
   "metadata": {},
   "source": [
    "How about this one?\n",
    "$$A_{Fire, \\#Forest}  = U_{Fire,x_2} * \\Sigma_{x_2,x_2} * V^T_{x_2, \\#Forest}$$"
   ]
  },
  {
   "cell_type": "markdown",
   "metadata": {},
   "source": [
    "What about this one?\n",
    "\n",
    "$$A_{Regression, \\#Forest}  = U_{Regression,x_3} * \\Sigma_{x_3,x_3} * V^T_{x_3, \\#Forest}$$"
   ]
  },
  {
   "cell_type": "markdown",
   "metadata": {},
   "source": [
    "What is $x_1$, $x_2$ and $x_3$? What makes these words and hashtags appear together?\n",
    "\n",
    "<details>\n",
    "  <summary>Answer</summary>\n",
    "  \n",
    "  1. $x_1$: Job hunting\n",
    "  2. $x_2$: Environmental protection\n",
    "  3. $x_3$: Machine Learning\n",
    "</details>\n",
    "\n",
    "**Boom! This is TOPIC modeling!** Now submit resume to Facebook."
   ]
  },
  {
   "cell_type": "markdown",
   "metadata": {},
   "source": [
    "#### Example 2: Movie reviews.\n",
    "> You are going to do a book review for the assignment."
   ]
  },
  {
   "cell_type": "code",
   "execution_count": 161,
   "metadata": {},
   "outputs": [
    {
     "name": "stdout",
     "output_type": "stream",
     "text": [
      "       TheMatrix  Alien  StarWars  Casablanca  Titanic\n",
      "Alice          1      0         1           5        5\n",
      "Bob            3      5         5           0        0\n",
      "Cindy          4      4         4           0        0\n",
      "Dan            5      5         5           0        0\n",
      "Emily          0      2         0           5        4\n",
      "Frank          0      0         0           5        5\n",
      "Greg           0      1         0           2        2\n"
     ]
    }
   ],
   "source": [
    "rating_matrix = np.array([\n",
    "              [1, 0, 1, 5, 5],\n",
    "              [3, 5, 5, 0, 0],\n",
    "              [4, 4, 4, 0, 0],\n",
    "              [5, 5, 5, 0, 0],\n",
    "              [0, 2, 0, 5, 4],\n",
    "              [0, 0, 0, 5, 5],\n",
    "              [0, 1, 0, 2, 2]])\n",
    "\n",
    "movies = ['TheMatrix', 'Alien', 'StarWars', 'Casablanca', 'Titanic']\n",
    "users = ['Alice', 'Bob', 'Cindy', 'Dan', 'Emily', 'Frank', 'Greg']\n",
    "ratings_df = pd.DataFrame(rating_matrix, index=users, columns=movies)\n",
    "print(ratings_df)\n",
    "U, sigma, VT = np.linalg.svd(rating_matrix)\n",
    "U, sigma, VT = (np.around(x, 2) for x in (U, sigma, VT)) # round so easier to see"
   ]
  },
  {
   "cell_type": "code",
   "execution_count": 162,
   "metadata": {},
   "outputs": [],
   "source": [
    "U_df = pd.DataFrame(U, index=users)\n",
    "VT_df = pd.DataFrame(VT, columns=movies)"
   ]
  },
  {
   "cell_type": "markdown",
   "metadata": {},
   "source": [
    "The matrix $U_{df}$ represents the projection of `something` to the `users` space, aka the row space of the original matrix `ratings_df`."
   ]
  },
  {
   "cell_type": "code",
   "execution_count": 163,
   "metadata": {},
   "outputs": [
    {
     "data": {
      "text/html": [
       "<div>\n",
       "<style scoped>\n",
       "    .dataframe tbody tr th:only-of-type {\n",
       "        vertical-align: middle;\n",
       "    }\n",
       "\n",
       "    .dataframe tbody tr th {\n",
       "        vertical-align: top;\n",
       "    }\n",
       "\n",
       "    .dataframe thead th {\n",
       "        text-align: right;\n",
       "    }\n",
       "</style>\n",
       "<table border=\"1\" class=\"dataframe\">\n",
       "  <thead>\n",
       "    <tr style=\"text-align: right;\">\n",
       "      <th></th>\n",
       "      <th>0</th>\n",
       "      <th>1</th>\n",
       "      <th>2</th>\n",
       "      <th>3</th>\n",
       "      <th>4</th>\n",
       "      <th>5</th>\n",
       "      <th>6</th>\n",
       "    </tr>\n",
       "  </thead>\n",
       "  <tbody>\n",
       "    <tr>\n",
       "      <th>Alice</th>\n",
       "      <td>-0.27</td>\n",
       "      <td>-0.51</td>\n",
       "      <td>-0.55</td>\n",
       "      <td>-0.22</td>\n",
       "      <td>-0.26</td>\n",
       "      <td>-0.39</td>\n",
       "      <td>0.31</td>\n",
       "    </tr>\n",
       "    <tr>\n",
       "      <th>Bob</th>\n",
       "      <td>-0.51</td>\n",
       "      <td>0.25</td>\n",
       "      <td>0.34</td>\n",
       "      <td>-0.75</td>\n",
       "      <td>-0.04</td>\n",
       "      <td>-0.00</td>\n",
       "      <td>-0.00</td>\n",
       "    </tr>\n",
       "    <tr>\n",
       "      <th>Cindy</th>\n",
       "      <td>-0.46</td>\n",
       "      <td>0.22</td>\n",
       "      <td>-0.16</td>\n",
       "      <td>0.31</td>\n",
       "      <td>0.04</td>\n",
       "      <td>-0.44</td>\n",
       "      <td>-0.64</td>\n",
       "    </tr>\n",
       "    <tr>\n",
       "      <th>Dan</th>\n",
       "      <td>-0.58</td>\n",
       "      <td>0.28</td>\n",
       "      <td>-0.21</td>\n",
       "      <td>0.39</td>\n",
       "      <td>0.05</td>\n",
       "      <td>0.43</td>\n",
       "      <td>0.45</td>\n",
       "    </tr>\n",
       "    <tr>\n",
       "      <th>Emily</th>\n",
       "      <td>-0.26</td>\n",
       "      <td>-0.46</td>\n",
       "      <td>0.64</td>\n",
       "      <td>0.34</td>\n",
       "      <td>-0.45</td>\n",
       "      <td>-0.00</td>\n",
       "      <td>-0.00</td>\n",
       "    </tr>\n",
       "    <tr>\n",
       "      <th>Frank</th>\n",
       "      <td>-0.20</td>\n",
       "      <td>-0.55</td>\n",
       "      <td>-0.15</td>\n",
       "      <td>-0.13</td>\n",
       "      <td>0.36</td>\n",
       "      <td>0.55</td>\n",
       "      <td>-0.43</td>\n",
       "    </tr>\n",
       "    <tr>\n",
       "      <th>Greg</th>\n",
       "      <td>-0.12</td>\n",
       "      <td>-0.20</td>\n",
       "      <td>0.29</td>\n",
       "      <td>0.11</td>\n",
       "      <td>0.77</td>\n",
       "      <td>-0.39</td>\n",
       "      <td>0.31</td>\n",
       "    </tr>\n",
       "  </tbody>\n",
       "</table>\n",
       "</div>"
      ],
      "text/plain": [
       "          0     1     2     3     4     5     6\n",
       "Alice -0.27 -0.51 -0.55 -0.22 -0.26 -0.39  0.31\n",
       "Bob   -0.51  0.25  0.34 -0.75 -0.04 -0.00 -0.00\n",
       "Cindy -0.46  0.22 -0.16  0.31  0.04 -0.44 -0.64\n",
       "Dan   -0.58  0.28 -0.21  0.39  0.05  0.43  0.45\n",
       "Emily -0.26 -0.46  0.64  0.34 -0.45 -0.00 -0.00\n",
       "Frank -0.20 -0.55 -0.15 -0.13  0.36  0.55 -0.43\n",
       "Greg  -0.12 -0.20  0.29  0.11  0.77 -0.39  0.31"
      ]
     },
     "execution_count": 163,
     "metadata": {},
     "output_type": "execute_result"
    }
   ],
   "source": [
    "U_df"
   ]
  },
  {
   "cell_type": "markdown",
   "metadata": {},
   "source": [
    "The matrix $VT_{df}$ represents the projection of `something` to the `movies` space, aka the column space of the original matrix `ratings_df`."
   ]
  },
  {
   "cell_type": "code",
   "execution_count": 164,
   "metadata": {},
   "outputs": [
    {
     "data": {
      "text/html": [
       "<div>\n",
       "<style scoped>\n",
       "    .dataframe tbody tr th:only-of-type {\n",
       "        vertical-align: middle;\n",
       "    }\n",
       "\n",
       "    .dataframe tbody tr th {\n",
       "        vertical-align: top;\n",
       "    }\n",
       "\n",
       "    .dataframe thead th {\n",
       "        text-align: right;\n",
       "    }\n",
       "</style>\n",
       "<table border=\"1\" class=\"dataframe\">\n",
       "  <thead>\n",
       "    <tr style=\"text-align: right;\">\n",
       "      <th></th>\n",
       "      <th>TheMatrix</th>\n",
       "      <th>Alien</th>\n",
       "      <th>StarWars</th>\n",
       "      <th>Casablanca</th>\n",
       "      <th>Titanic</th>\n",
       "    </tr>\n",
       "  </thead>\n",
       "  <tbody>\n",
       "    <tr>\n",
       "      <th>0</th>\n",
       "      <td>-0.47</td>\n",
       "      <td>-0.57</td>\n",
       "      <td>-0.55</td>\n",
       "      <td>-0.28</td>\n",
       "      <td>-0.26</td>\n",
       "    </tr>\n",
       "    <tr>\n",
       "      <th>1</th>\n",
       "      <td>0.21</td>\n",
       "      <td>0.20</td>\n",
       "      <td>0.25</td>\n",
       "      <td>-0.67</td>\n",
       "      <td>-0.63</td>\n",
       "    </tr>\n",
       "    <tr>\n",
       "      <th>2</th>\n",
       "      <td>-0.58</td>\n",
       "      <td>0.74</td>\n",
       "      <td>-0.26</td>\n",
       "      <td>0.12</td>\n",
       "      <td>-0.18</td>\n",
       "    </tr>\n",
       "    <tr>\n",
       "      <th>3</th>\n",
       "      <td>0.63</td>\n",
       "      <td>0.18</td>\n",
       "      <td>-0.72</td>\n",
       "      <td>0.14</td>\n",
       "      <td>-0.17</td>\n",
       "    </tr>\n",
       "    <tr>\n",
       "      <th>4</th>\n",
       "      <td>0.01</td>\n",
       "      <td>0.21</td>\n",
       "      <td>-0.22</td>\n",
       "      <td>-0.66</td>\n",
       "      <td>0.69</td>\n",
       "    </tr>\n",
       "  </tbody>\n",
       "</table>\n",
       "</div>"
      ],
      "text/plain": [
       "   TheMatrix  Alien  StarWars  Casablanca  Titanic\n",
       "0      -0.47  -0.57     -0.55       -0.28    -0.26\n",
       "1       0.21   0.20      0.25       -0.67    -0.63\n",
       "2      -0.58   0.74     -0.26        0.12    -0.18\n",
       "3       0.63   0.18     -0.72        0.14    -0.17\n",
       "4       0.01   0.21     -0.22       -0.66     0.69"
      ]
     },
     "execution_count": 164,
     "metadata": {},
     "output_type": "execute_result"
    }
   ],
   "source": [
    "VT_df"
   ]
  },
  {
   "cell_type": "markdown",
   "metadata": {},
   "source": [
    "The matrix $\\Sigma$ represents the interaction strength between these two embeddings/projections."
   ]
  },
  {
   "cell_type": "code",
   "execution_count": 165,
   "metadata": {},
   "outputs": [
    {
     "data": {
      "text/plain": [
       "array([[13.8 ,  0.  ,  0.  ,  0.  ,  0.  ],\n",
       "       [ 0.  , 11.9 ,  0.  ,  0.  ,  0.  ],\n",
       "       [ 0.  ,  0.  ,  2.11,  0.  ,  0.  ],\n",
       "       [ 0.  ,  0.  ,  0.  ,  1.11,  0.  ],\n",
       "       [ 0.  ,  0.  ,  0.  ,  0.  ,  0.33]])"
      ]
     },
     "execution_count": 165,
     "metadata": {},
     "output_type": "execute_result"
    }
   ],
   "source": [
    "np.diag(sigma) # S"
   ]
  },
  {
   "cell_type": "markdown",
   "metadata": {},
   "source": [
    "You can reconstruct the users' rating use the first two `somethings`."
   ]
  },
  {
   "cell_type": "code",
   "execution_count": 192,
   "metadata": {},
   "outputs": [
    {
     "name": "stdout",
     "output_type": "stream",
     "text": [
      "Reconstructed Rating Matrix\n",
      "       TheMatrix    Alien  StarWars  Casablanca  Titanic\n",
      "Alice    0.47673  0.91002   0.53205     5.10951  4.79223\n",
      "Bob      3.93261  4.60666   4.61465    -0.02261 -0.04437\n",
      "Cindy    3.53334  4.14196   4.14590     0.02338  0.00114\n",
      "Dan      4.46160  5.22868   5.23520     0.00868 -0.01812\n",
      "Emily    0.53682  0.95036   0.60490     4.67222  4.38150\n",
      "Frank   -0.07725  0.26420  -0.11825     5.15795  4.84095\n",
      "Greg     0.27852  0.46792   0.31580     2.05828  1.92996\n",
      "\n",
      "Original Rating Matrix\n",
      "       TheMatrix  Alien  StarWars  Casablanca  Titanic\n",
      "Alice          1      0         1           5        5\n",
      "Bob            3      5         5           0        0\n",
      "Cindy          4      4         4           0        0\n",
      "Dan            5      5         5           0        0\n",
      "Emily          0      2         0           5        4\n",
      "Frank          0      0         0           5        5\n",
      "Greg           0      1         0           2        2\n"
     ]
    }
   ],
   "source": [
    "sigma_reduced = np.zeros(rating_matrix.shape)\n",
    "np.fill_diagonal(sigma_reduced, sigma)\n",
    "sigma_reduced[:, 2:] = 0 # rank of 2\n",
    "\n",
    "# Reoconstruct the ratings matrix\n",
    "ratings_reconstructed = np.dot(np.dot(U, sigma_reduced), VT)\n",
    "\n",
    "ratings_reconstructed_df = pd.DataFrame(ratings_reconstructed, index=users, columns=movies)\n",
    "print(\"Reconstructed Rating Matrix\")\n",
    "print(ratings_reconstructed_df)\n",
    "print()\n",
    "print(\"Original Rating Matrix\")\n",
    "print(ratings_df)"
   ]
  },
  {
   "cell_type": "markdown",
   "metadata": {},
   "source": [
    "#### Example 3: Thought experiments\n",
    "\n",
    "1. What about a matrix that each row represents an Amazon `user` and each column represent a `product` on Amazon?\n",
    "2. What about a matrix that each row represent a yelp `user` and each column represent a `restaurant` on yelp?\n",
    "\n",
    "> **A Watts between Linear Algebra and Jeff Bezos**\n",
    "\n",
    "\n",
    "\n",
    "\n",
    "<p float=\"left\">\n",
    "  <img src=\"https://image.cnbcfm.com/api/v1/image/106569797-1591649109683gettyimages-1032942656.jpeg?v=1598550931&w=1400&h=950\" width=\"30%\"></img> \n",
    "</p>"
   ]
  },
  {
   "cell_type": "markdown",
   "metadata": {},
   "source": [
    "#### Visualization\n",
    "> essentially the advanced part of assignment."
   ]
  },
  {
   "cell_type": "code",
   "execution_count": 167,
   "metadata": {},
   "outputs": [],
   "source": [
    "from sklearn.manifold import MDS\n",
    "from scipy.spatial import distance"
   ]
  },
  {
   "cell_type": "markdown",
   "metadata": {},
   "source": [
    "Let's cluster movies based on their embeddings.\n",
    "Each row now is a movie. \n",
    "\n",
    "Let's only take the first **3** components of the projection."
   ]
  },
  {
   "cell_type": "code",
   "execution_count": 168,
   "metadata": {},
   "outputs": [
    {
     "name": "stdout",
     "output_type": "stream",
     "text": [
      "['TheMatrix', 'Alien', 'StarWars', 'Casablanca', 'Titanic']\n"
     ]
    },
    {
     "data": {
      "text/plain": [
       "array([[-0.47,  0.21, -0.58],\n",
       "       [-0.57,  0.2 ,  0.74],\n",
       "       [-0.55,  0.25, -0.26],\n",
       "       [-0.28, -0.67,  0.12],\n",
       "       [-0.26, -0.63, -0.18]])"
      ]
     },
     "execution_count": 168,
     "metadata": {},
     "output_type": "execute_result"
    }
   ],
   "source": [
    "print(movies)\n",
    "movie_numpy = VT_df.iloc[:3].to_numpy().T\n",
    "movie_numpy"
   ]
  },
  {
   "cell_type": "markdown",
   "metadata": {},
   "source": [
    "Check the [distance function](https://docs.scipy.org/doc/scipy/reference/generated/scipy.spatial.distance.pdist.html).\n",
    "\n",
    "The Chebyshev distance between two n-vectors $x$ and $y$ is the maximum norm-1 distance between their respective elements. \n",
    "\n",
    "![](https://wikimedia.org/api/rest_v1/media/math/render/svg/ef6bef9e786a1ec7618e3588803793a4c05ca2a4)"
   ]
  },
  {
   "cell_type": "code",
   "execution_count": 169,
   "metadata": {},
   "outputs": [
    {
     "data": {
      "text/plain": [
       "array([[0.  , 1.32, 0.32, 0.88, 0.84],\n",
       "       [1.32, 0.  , 1.  , 0.87, 0.92],\n",
       "       [0.32, 1.  , 0.  , 0.92, 0.88],\n",
       "       [0.88, 0.87, 0.92, 0.  , 0.3 ],\n",
       "       [0.84, 0.92, 0.88, 0.3 , 0.  ]])"
      ]
     },
     "execution_count": 169,
     "metadata": {},
     "output_type": "execute_result"
    }
   ],
   "source": [
    "dist = distance.pdist(movie_numpy, metric = \"chebyshev\")\n",
    "distance.squareform(dist)"
   ]
  },
  {
   "cell_type": "code",
   "execution_count": 170,
   "metadata": {},
   "outputs": [],
   "source": [
    "mds = MDS(dissimilarity='precomputed',random_state=2).fit_transform(distance.squareform(dist))"
   ]
  },
  {
   "cell_type": "markdown",
   "metadata": {},
   "source": [
    "**Multidimensional scaling (MDS) seeks a low-dimensional (2) representation of the data in which the distances respect well the distances in the original high-dimensional space.**\n",
    "\n",
    "Another important technique: **[t-SNE](https://en.wikipedia.org/wiki/T-distributed_stochastic_neighbor_embedding)**."
   ]
  },
  {
   "cell_type": "code",
   "execution_count": 171,
   "metadata": {},
   "outputs": [
    {
     "data": {
      "text/plain": [
       "array([[-0.41673771, -0.42543163],\n",
       "       [ 0.74108089,  0.10937833],\n",
       "       [-0.09298509, -0.48013112],\n",
       "       [-0.00799443,  0.42258595],\n",
       "       [-0.22336366,  0.37359847]])"
      ]
     },
     "execution_count": 171,
     "metadata": {},
     "output_type": "execute_result"
    }
   ],
   "source": [
    "mds"
   ]
  },
  {
   "cell_type": "code",
   "execution_count": 172,
   "metadata": {},
   "outputs": [
    {
     "data": {
      "image/png": "[encoded data removed]",
      "text/plain": [
       "<Figure size 576x432 with 1 Axes>"
      ]
     },
     "metadata": {
      "needs_background": "light"
     },
     "output_type": "display_data"
    }
   ],
   "source": [
    "plt.figure(figsize=(8,6))\n",
    "plt.plot(mds[:, 0], mds[:, 1], 'o', alpha = 1);\n",
    "for movie, pos in zip(movies, mds):\n",
    "    plt.annotate(movie, (pos[0], pos[1]),\n",
    "                     alpha = 1)\n",
    "# randomness\n",
    "circle0 = plt.Circle((-0.1, 0.4), 0.13, color='orange', fill=False)\n",
    "plt.gcf().gca().add_artist(circle0)\n",
    "circle1 = plt.Circle((0.74, 0.12), 0.1, color='g', fill=False)\n",
    "plt.gcf().gca().add_artist(circle1)\n",
    "circle2 = plt.Circle((-0.23, -0.4), 0.2, color='r', fill=False)\n",
    "plt.gcf().gca().add_artist(circle2);"
   ]
  },
  {
   "cell_type": "markdown",
   "metadata": {},
   "source": [
    "**Boom! Somehow you can do clustering on movies `without using ANY` intrinsic movie features!**"
   ]
  },
  {
   "cell_type": "markdown",
   "metadata": {},
   "source": [
    "Question: How about all **5** components of the projection?"
   ]
  },
  {
   "cell_type": "code",
   "execution_count": 173,
   "metadata": {},
   "outputs": [
    {
     "data": {
      "image/png": "[encoded data removed]",
      "text/plain": [
       "<Figure size 432x288 with 1 Axes>"
      ]
     },
     "metadata": {
      "needs_background": "light"
     },
     "output_type": "display_data"
    }
   ],
   "source": [
    "dist_all = distance.pdist(VT_df.to_numpy().T, metric = \"chebyshev\")\n",
    "mds_all = MDS(dissimilarity='precomputed').fit_transform(distance.squareform(dist_all))\n",
    "plt.plot(mds_all[:, 0], mds_all[:, 1], 'o', alpha = 1);\n",
    "for movie, pos in zip(movies, mds_all):\n",
    "    plt.annotate(movie, (pos[0], pos[1]),\n",
    "                     color = 'blue',\n",
    "                     alpha = 1)"
   ]
  },
  {
   "cell_type": "markdown",
   "metadata": {},
   "source": [
    "Question: How about using other distance metrics?"
   ]
  },
  {
   "cell_type": "code",
   "execution_count": 174,
   "metadata": {},
   "outputs": [
    {
     "data": {
      "image/png": "[encoded data removed]",
      "text/plain": [
       "<Figure size 432x288 with 1 Axes>"
      ]
     },
     "metadata": {
      "needs_background": "light"
     },
     "output_type": "display_data"
    }
   ],
   "source": [
    "dist_l2 = distance.pdist(VT_df.iloc[:3].to_numpy().T, metric = \"euclidean\")\n",
    "mds_l2 = MDS(dissimilarity='precomputed',random_state=2).fit_transform(distance.squareform(dist_l2))\n",
    "plt.plot(mds_l2[:, 0], mds_l2[:, 1], 'o', alpha = 1);\n",
    "for movie, pos in zip(movies, mds_l2):\n",
    "    plt.annotate(movie, (pos[0], pos[1]),\n",
    "                     color = 'blue',\n",
    "                     alpha = 1)"
   ]
  },
  {
   "cell_type": "markdown",
   "metadata": {},
   "source": [
    "## Afternoon session"
   ]
  },
  {
   "cell_type": "markdown",
   "metadata": {},
   "source": [
    "### Topic modeling\n",
    "\n",
    "> What are the problems with SVD topic modeling?\n",
    "\n",
    "1. Values in $U$ and $V^T$ can be negative, which is weird and hard to interpret. This is especially true for modern-day online recommending system. For example, Amazon product review stars.\n",
    "\n",
    "2. SVD forces us to eliminate missing values. This is often not true in practice."
   ]
  },
  {
   "cell_type": "markdown",
   "metadata": {},
   "source": [
    "### Non-negative Matrix Factorization\n",
    "\n",
    "A rare mathematics publication on [Nature](http://www.columbia.edu/~jwp2128/Teaching/E4903/papers/nmf_nature.pdf).\n",
    "\n",
    "The way out is to find other matrix [factorization](https://en.wikipedia.org/wiki/Matrix_decomposition) methods. There are a lot with various physical meanings. The one we are looking for is called  Non-negative matrix factorization [NMF](https://en.wikipedia.org/wiki/Non-negative_matrix_factorization)."
   ]
  },
  {
   "cell_type": "markdown",
   "metadata": {},
   "source": [
    "#### Mathematics\n",
    "\n",
    "> A matrix $V$ is non-negative if for each element $v_{ij} \\geq 0$. \n",
    "\n",
    "> Don't confuse with [`positive semi-definite`](https://en.wikipedia.org/wiki/Definite_symmetric_matrix) matrix. A matrix $V$ is `positive semi-definite` if for any vector $x$, scalar $x^TVx$ is non-negative. The covariance matrix is `positive semi-definite`.\n",
    "\n",
    "Suppose we have a matrix $V \\in \\mathbb{R}^{m \\times n}$. With `NMF`, we try to write it as the product of two smaller matrices, $W \\in \\mathbb{R}^{m \\times r}$ and $H \\in \\mathbb{R}^{r \\times n}$, \n",
    "\n",
    "$$ V = W H$$\n",
    "\n",
    "![](https://upload.wikimedia.org/wikipedia/commons/thumb/f/f9/NMF.png/400px-NMF.png)\n",
    "\n",
    "or, to be more graphical,\n",
    "\n",
    "$$\\begin{bmatrix}\n",
    "    v_{11}       & v_{12} & v_{13} & \\dots & v_{1n} \\\\\n",
    "    v_{21}       & v_{22} & v_{23} & \\dots & v_{2n} \\\\\n",
    "    v_{31}       & v_{32} & v_{33} & \\dots & v_{3n} \\\\\n",
    "    v_{41}       & v_{42} & v_{43} & \\dots & v_{4n} \\\\\n",
    "    \\vdots       & \\vdots & \\vdots & \\ddots& \\vdots \\\\\n",
    "    v_{m1}       & v_{m2} & v_{m3} & \\dots & v_{mn}\n",
    "\\end{bmatrix}\n",
    "=\n",
    "\\begin{bmatrix}\n",
    "    w_{11}       & \\dots & w_{1r} \\\\\n",
    "    w_{21}       & \\dots & w_{2r} \\\\\n",
    "    w_{31}       & \\dots & w_{3r} \\\\\n",
    "    w_{41}       & \\dots & w_{4r} \\\\\n",
    "    \\vdots       & \\ddots& \\vdots \\\\\n",
    "    w_{m1}       & \\dots & w_{mr}\n",
    "\\end{bmatrix}\n",
    "\\begin{bmatrix}\n",
    "    h_{11}       & h_{12} & h_{13} & \\dots & h_{1n} \\\\\n",
    "    \\vdots       & \\vdots & \\vdots & \\ddots& \\vdots \\\\\n",
    "    h_{r1}       & h_{r2} & h_{r3} & \\dots & h_{rn}\n",
    "\\end{bmatrix}\n",
    "$$\n",
    "\n",
    "with the constraint that all $w_{ik} \\ge 0$ and $h_{kj} \\ge 0$.\n",
    "\n",
    "In general, this isn't possible, but we'll try to do the best we can, `minimizing` the [Frobenius norm](https://en.wikipedia.org/wiki/Matrix_norm#Frobenius_norm) of the differences.\n",
    "\n",
    "$$||V - WH||^2 = \\sum_{ij} \\Bigl(V_{ij} - \\sum_k W_{ik} H_{kj}\\Bigr)^2$$\n",
    "\n",
    "again with the constraint that the components are greater than zero.\n",
    "\n",
    "Note that the number of topics $r$ is a hyperparameter; we can choose how many topics we want."
   ]
  },
  {
   "cell_type": "markdown",
   "metadata": {},
   "source": [
    "> **Frobenius norm.**\n",
    "![Frobenius norm](https://wikimedia.org/api/rest_v1/media/math/render/svg/d727134770f3e3275994cfc1fd5c75f8073394a8)"
   ]
  },
  {
   "cell_type": "markdown",
   "metadata": {},
   "source": [
    "1. **Question** What would the value of $r$ have to do with the bias-variance tradeoff?\n",
    "\n",
    "2. **Question** What is the disadvantage and advantage compared with SVD?"
   ]
  },
  {
   "cell_type": "markdown",
   "metadata": {},
   "source": [
    "#### Solve NMF\n",
    "\n",
    "Solving NMF is `NP-hard` which means finding the global minimization in a quick fashion is not feasible. However, there are iterative approach."
   ]
  },
  {
   "cell_type": "markdown",
   "metadata": {},
   "source": [
    "##### Least square solver\n",
    "For small scale problems, we can use optimizers to solve it.\n",
    "$$ Ax = b$$\n",
    "\n",
    "$$ \\begin{bmatrix} 1 & 2 \\\\ -3 & 4 \\end{bmatrix} \\left[ \\begin{array}{c} x_1 \\\\ x_2 \\end{array} \\right] = \\left[ \\begin{array}{cc} 7 \\\\ -9 \\end{array} \\right] $$\n",
    "\n",
    "There are two unknowns ($x_1$ and $x_2$) and two equations ($x_1 + 2x_2 = 7$ and $-3x_1 + 4x_2 = -9$) so (usually) there is one solution."
   ]
  },
  {
   "cell_type": "code",
   "execution_count": 175,
   "metadata": {},
   "outputs": [
    {
     "name": "stdout",
     "output_type": "stream",
     "text": [
      "[4.6 1.2]\n"
     ]
    }
   ],
   "source": [
    "A = np.array([[1, 2], [-3, 4]])\n",
    "b = np.array([7, -9])\n",
    "print(np.linalg.solve(A, b))"
   ]
  },
  {
   "cell_type": "markdown",
   "metadata": {},
   "source": [
    "What if we have an `overdetermined` system of linear equations? \n",
    "\n",
    "> `Overdetermined` means there are more constraints/equations than variables.\n",
    "\n",
    "$$ \\begin{bmatrix} 1 & 2 \\\\ -3 & 4 \\\\ 1 & -4 \\end{bmatrix} \\left[ \\begin{array}{c} x_1 \\\\ x_2 \\end{array} \\right] = \\left[ \\begin{array}{cc} 7 \\\\ -9 \\\\ 17 \\end{array} \\right] $$\n",
    "\n",
    "An exact solution is not guaranteed, so we must do something else. Least Squares dictates that we find the $x$ that minimizes the residual sum of squares (RSS).\n",
    "\n",
    "(Note: This is the solver we use when doing Linear Regression!)"
   ]
  },
  {
   "cell_type": "code",
   "execution_count": 176,
   "metadata": {},
   "outputs": [
    {
     "name": "stdout",
     "output_type": "stream",
     "text": [
      "[ 2.88 -1.38]\n",
      "Residual sum of squares (error): 147.92000000000002\n"
     ]
    }
   ],
   "source": [
    "A = np.array([[1, 2], [-3, 4], [1, -4]])\n",
    "b = np.array([7, -9, 17])\n",
    "# silence the warning\n",
    "print(np.linalg.lstsq(A, b, rcond=None)[0])\n",
    "print(\"Residual sum of squares (error): {}\".format(np.linalg.lstsq(A, b, rcond=None)[1][0]))"
   ]
  },
  {
   "cell_type": "markdown",
   "metadata": {},
   "source": [
    "##### Non-negative least-squares solver\n",
    "What if you want to constrain the solution to be non-negative?"
   ]
  },
  {
   "cell_type": "code",
   "execution_count": 177,
   "metadata": {},
   "outputs": [
    {
     "name": "stdout",
     "output_type": "stream",
     "text": [
      "[4.63636364 0.        ]\n",
      "Residual sum of squares (error): 182.54545454545462\n"
     ]
    }
   ],
   "source": [
    "from scipy.optimize import nnls\n",
    "\n",
    "A = np.array([[1, 2], [-3, 4], [1, -4]])\n",
    "b = np.array([7, -9, 17])\n",
    "\n",
    "print(nnls(A, b)[0])\n",
    "print(\"Residual sum of squares (error): {}\".format(nnls(A, b)[1] ** 2))"
   ]
  },
  {
   "cell_type": "markdown",
   "metadata": {},
   "source": [
    "#### Iterative Approach\n",
    "\n",
    "1. The matrix is very large.\n",
    "2. No fixed $A$ is given.\n",
    "\n",
    "The following algorithm was published in original Nature paper. \n",
    "\n",
    "1. initialize: $W$ and $H$ non negative.\n",
    "2. update the values in $W$ and $H$ by computing the following, with $n$ as an index of the iteration.\n",
    " > ![](https://wikimedia.org/api/rest_v1/media/math/render/svg/18cfc3129a50a666c8e749f4b575f830bf696310), ![](https://wikimedia.org/api/rest_v1/media/math/render/svg/5b0534efc0b3b2259d8f6e9a83dffb5ece07b515)\n",
    " \n",
    " Many other methods are developed after that. Notable methods include\n",
    " 1. [alternating non-negative least squares](https://www.cc.gatech.edu/~hpark/papers/simax-nmf.pdf) (used in assignment).\n",
    " 2. [Projected Gradient Methods](https://www.csie.ntu.edu.tw/~cjlin/papers/pgradnmf.pdf)\n",
    " 3. [Optimal Gradient Method](https://ui.adsabs.harvard.edu/abs/2012ITSP...60.2882G/abstract)\n",
    " \n",
    "We just use [NMF](https://scikit-learn.org/stable/modules/generated/sklearn.decomposition.NMF.html) from sklearn."
   ]
  },
  {
   "cell_type": "code",
   "execution_count": 178,
   "metadata": {},
   "outputs": [],
   "source": [
    "X = np.array([[1, 1], [2, 1], [3, 1.2], [4, 1], [5, 0.8], [6, 1]])"
   ]
  },
  {
   "cell_type": "code",
   "execution_count": 179,
   "metadata": {},
   "outputs": [
    {
     "data": {
      "text/plain": [
       "array([[1. , 1. ],\n",
       "       [2. , 1. ],\n",
       "       [3. , 1.2],\n",
       "       [4. , 1. ],\n",
       "       [5. , 0.8],\n",
       "       [6. , 1. ]])"
      ]
     },
     "execution_count": 179,
     "metadata": {},
     "output_type": "execute_result"
    }
   ],
   "source": [
    "X"
   ]
  },
  {
   "cell_type": "code",
   "execution_count": 180,
   "metadata": {},
   "outputs": [],
   "source": [
    "from sklearn.decomposition import NMF\n",
    "r = 2\n",
    "model = NMF(n_components=r, init='random', random_state=0)\n",
    "W = model.fit_transform(X)\n",
    "H = model.components_"
   ]
  },
  {
   "cell_type": "code",
   "execution_count": 181,
   "metadata": {},
   "outputs": [
    {
     "data": {
      "text/plain": [
       "array([[2.09783018, 0.30560234],\n",
       "       [2.13443044, 2.13171694]])"
      ]
     },
     "execution_count": 181,
     "metadata": {},
     "output_type": "execute_result"
    }
   ],
   "source": [
    "H"
   ]
  },
  {
   "cell_type": "code",
   "execution_count": 182,
   "metadata": {},
   "outputs": [
    {
     "data": {
      "text/plain": [
       "array([[0.        , 0.46880684],\n",
       "       [0.55699523, 0.3894146 ],\n",
       "       [1.00331638, 0.41925352],\n",
       "       [1.6733999 , 0.22926926],\n",
       "       [2.34349311, 0.03927954],\n",
       "       [2.78981512, 0.06911798]])"
      ]
     },
     "execution_count": 182,
     "metadata": {},
     "output_type": "execute_result"
    }
   ],
   "source": [
    "W"
   ]
  },
  {
   "cell_type": "markdown",
   "metadata": {},
   "source": [
    "Check the Frobenius norm."
   ]
  },
  {
   "cell_type": "code",
   "execution_count": 183,
   "metadata": {},
   "outputs": [
    {
     "data": {
      "text/plain": [
       "0.0011599349216014077"
      ]
     },
     "execution_count": 183,
     "metadata": {},
     "output_type": "execute_result"
    }
   ],
   "source": [
    "np.linalg.norm(X - W @ H, ord=\"fro\")"
   ]
  },
  {
   "cell_type": "code",
   "execution_count": 184,
   "metadata": {},
   "outputs": [
    {
     "data": {
      "text/plain": [
       "array([[-6.35579822e-04,  6.36528773e-04],\n",
       "       [ 3.40231372e-04, -3.40739354e-04],\n",
       "       [ 3.45147253e-04, -3.45662574e-04],\n",
       "       [ 1.31898319e-04, -1.32095249e-04],\n",
       "       [-9.00218123e-05,  9.01562192e-05],\n",
       "       [-8.58722020e-05,  8.60004133e-05]])"
      ]
     },
     "execution_count": 184,
     "metadata": {},
     "output_type": "execute_result"
    }
   ],
   "source": [
    "X - W @ H"
   ]
  },
  {
   "cell_type": "markdown",
   "metadata": {},
   "source": [
    "### Redo the movie recommendation."
   ]
  },
  {
   "cell_type": "code",
   "execution_count": 185,
   "metadata": {},
   "outputs": [
    {
     "data": {
      "text/html": [
       "<div>\n",
       "<style scoped>\n",
       "    .dataframe tbody tr th:only-of-type {\n",
       "        vertical-align: middle;\n",
       "    }\n",
       "\n",
       "    .dataframe tbody tr th {\n",
       "        vertical-align: top;\n",
       "    }\n",
       "\n",
       "    .dataframe thead th {\n",
       "        text-align: right;\n",
       "    }\n",
       "</style>\n",
       "<table border=\"1\" class=\"dataframe\">\n",
       "  <thead>\n",
       "    <tr style=\"text-align: right;\">\n",
       "      <th></th>\n",
       "      <th>TheMatrix</th>\n",
       "      <th>Alien</th>\n",
       "      <th>StarWars</th>\n",
       "      <th>Casablanca</th>\n",
       "      <th>Titanic</th>\n",
       "    </tr>\n",
       "  </thead>\n",
       "  <tbody>\n",
       "    <tr>\n",
       "      <th>Alice</th>\n",
       "      <td>1</td>\n",
       "      <td>0</td>\n",
       "      <td>1</td>\n",
       "      <td>5</td>\n",
       "      <td>5</td>\n",
       "    </tr>\n",
       "    <tr>\n",
       "      <th>Bob</th>\n",
       "      <td>3</td>\n",
       "      <td>5</td>\n",
       "      <td>5</td>\n",
       "      <td>0</td>\n",
       "      <td>0</td>\n",
       "    </tr>\n",
       "    <tr>\n",
       "      <th>Cindy</th>\n",
       "      <td>4</td>\n",
       "      <td>4</td>\n",
       "      <td>4</td>\n",
       "      <td>0</td>\n",
       "      <td>0</td>\n",
       "    </tr>\n",
       "    <tr>\n",
       "      <th>Dan</th>\n",
       "      <td>5</td>\n",
       "      <td>5</td>\n",
       "      <td>5</td>\n",
       "      <td>0</td>\n",
       "      <td>0</td>\n",
       "    </tr>\n",
       "    <tr>\n",
       "      <th>Emily</th>\n",
       "      <td>0</td>\n",
       "      <td>2</td>\n",
       "      <td>0</td>\n",
       "      <td>5</td>\n",
       "      <td>4</td>\n",
       "    </tr>\n",
       "    <tr>\n",
       "      <th>Frank</th>\n",
       "      <td>0</td>\n",
       "      <td>0</td>\n",
       "      <td>0</td>\n",
       "      <td>5</td>\n",
       "      <td>5</td>\n",
       "    </tr>\n",
       "    <tr>\n",
       "      <th>Greg</th>\n",
       "      <td>0</td>\n",
       "      <td>1</td>\n",
       "      <td>0</td>\n",
       "      <td>2</td>\n",
       "      <td>2</td>\n",
       "    </tr>\n",
       "  </tbody>\n",
       "</table>\n",
       "</div>"
      ],
      "text/plain": [
       "       TheMatrix  Alien  StarWars  Casablanca  Titanic\n",
       "Alice          1      0         1           5        5\n",
       "Bob            3      5         5           0        0\n",
       "Cindy          4      4         4           0        0\n",
       "Dan            5      5         5           0        0\n",
       "Emily          0      2         0           5        4\n",
       "Frank          0      0         0           5        5\n",
       "Greg           0      1         0           2        2"
      ]
     },
     "execution_count": 185,
     "metadata": {},
     "output_type": "execute_result"
    }
   ],
   "source": [
    "ratings_df"
   ]
  },
  {
   "cell_type": "markdown",
   "metadata": {},
   "source": [
    "Estimate the number of topics/concepts."
   ]
  },
  {
   "cell_type": "code",
   "execution_count": 186,
   "metadata": {},
   "outputs": [
    {
     "name": "stderr",
     "output_type": "stream",
     "text": [
      "/Users/ronli/anaconda3/lib/python3.8/site-packages/sklearn/decomposition/_nmf.py:1076: ConvergenceWarning: Maximum number of iterations 200 reached. Increase it to improve convergence.\n",
      "  warnings.warn(\"Maximum number of iterations %d reached. Increase it to\"\n",
      "/Users/ronli/anaconda3/lib/python3.8/site-packages/sklearn/decomposition/_nmf.py:1076: ConvergenceWarning: Maximum number of iterations 200 reached. Increase it to improve convergence.\n",
      "  warnings.warn(\"Maximum number of iterations %d reached. Increase it to\"\n",
      "/Users/ronli/anaconda3/lib/python3.8/site-packages/sklearn/decomposition/_nmf.py:1076: ConvergenceWarning: Maximum number of iterations 200 reached. Increase it to improve convergence.\n",
      "  warnings.warn(\"Maximum number of iterations %d reached. Increase it to\"\n"
     ]
    },
    {
     "data": {
      "image/png": "[encoded data removed]",
      "text/plain": [
       "<Figure size 432x288 with 1 Axes>"
      ]
     },
     "metadata": {
      "needs_background": "light"
     },
     "output_type": "display_data"
    }
   ],
   "source": [
    "# Compute NMF\n",
    "\n",
    "def fit_nmf(r,M):\n",
    "    nmf = NMF(n_components=r)\n",
    "    nmf.fit(M) # M_ij = np.nan ? \n",
    "    W = nmf.transform(M)\n",
    "    H = nmf.components_\n",
    "    return nmf.reconstruction_err_\n",
    "\n",
    "error = [fit_nmf(i, rating_matrix) for i in range(1,6)]\n",
    "plt.plot(range(1,6), error)\n",
    "plt.xticks(range(1, 6))\n",
    "plt.xlabel('r')\n",
    "plt.ylabel('Reconstruction Error');"
   ]
  },
  {
   "cell_type": "markdown",
   "metadata": {},
   "source": [
    "### Example with TFIDF matrix."
   ]
  },
  {
   "cell_type": "code",
   "execution_count": 187,
   "metadata": {},
   "outputs": [],
   "source": [
    "from sklearn.feature_extraction.text import TfidfVectorizer"
   ]
  },
  {
   "cell_type": "code",
   "execution_count": 188,
   "metadata": {},
   "outputs": [],
   "source": [
    "articles_df = pd.read_csv(\"data/articles.csv\", encoding=\"utf-8\")"
   ]
  },
  {
   "cell_type": "code",
   "execution_count": 189,
   "metadata": {},
   "outputs": [],
   "source": [
    "vectorizer = TfidfVectorizer(stop_words='english')\n",
    "tfidf = vectorizer.fit_transform(articles_df['content'].values.astype('U'))"
   ]
  },
  {
   "cell_type": "code",
   "execution_count": 190,
   "metadata": {},
   "outputs": [
    {
     "data": {
      "text/plain": [
       "<1405x34044 sparse matrix of type '<class 'numpy.float64'>'\n",
       "\twith 311476 stored elements in Compressed Sparse Row format>"
      ]
     },
     "execution_count": 190,
     "metadata": {},
     "output_type": "execute_result"
    }
   ],
   "source": [
    "tfidf"
   ]
  },
  {
   "cell_type": "code",
   "execution_count": 191,
   "metadata": {},
   "outputs": [
    {
     "data": {
      "image/png": "[encoded data removed]",
      "text/plain": [
       "<Figure size 432x288 with 1 Axes>"
      ]
     },
     "metadata": {
      "needs_background": "light"
     },
     "output_type": "display_data"
    }
   ],
   "source": [
    "error = [fit_nmf(i, tfidf.toarray()) for i in range(1,25,4)]\n",
    "plt.plot(range(1,25,4), error)\n",
    "plt.xticks(range(1,25,4))\n",
    "plt.xlabel('r')\n",
    "plt.ylabel('Reconstruction Error');"
   ]
  },
  {
   "cell_type": "markdown",
   "metadata": {},
   "source": [
    "> Question: Find out the first 2 concepts.\n",
    "\n",
    "> Answer: Extract the $W$ and $H$ from `fit_nmf` function and do exactly the same as we did for the movie example."
   ]
  },
  {
   "cell_type": "markdown",
   "metadata": {},
   "source": [
    "### Comparing matrix factorizations\n",
    "\n",
    "![](https://media.springernature.com/m685/springer-static/image/art%3A10.1038%2F44565/MediaObjects/41586_1999_Article_BF44565_Fig1_HTML.gif)\n",
    "\n",
    "> Question: Why not using all dimensions in the $V^T$ matrix in svd for clustering?\n",
    "\n",
    "* Vector quantization [VQ](https://en.wikipedia.org/wiki/Vector_quantization)\n",
    "* Unsupervised topic modelling: [Latent Dirichlet allocation](https://en.wikipedia.org/wiki/Latent_Dirichlet_allocation)"
   ]
  },
  {
   "cell_type": "markdown",
   "metadata": {},
   "source": [
    "#### Advantage of NMF\n",
    "1. Not sensitive to missing values\n",
    "2. Easy to interpret (non-negative)\n",
    "3. Sparse, easy to store."
   ]
  },
  {
   "cell_type": "markdown",
   "metadata": {},
   "source": [
    "### The concept of [collaborative filtering](https://en.wikipedia.org/wiki/Collaborative_filtering)\n",
    "\n",
    "Collaborative filtering (CF) is a technique used by recommender systems. Collaborative filtering has two senses, a narrow one and a more general one.\n",
    "\n",
    "1. In the newer, narrower sense, collaborative filtering is a method of making automatic predictions (filtering) about the interests of a user by collecting preferences or taste information from many users (collaborating). \n",
    "2. In the more general sense, collaborative filtering is the process of filtering for information or patterns using techniques involving collaboration among multiple agents, viewpoints, data sources, etc.\n",
    "\n",
    "Example: How do you find `???` ?\n",
    "\n",
    "$$\\begin{bmatrix}\n",
    "    v_{11}       & v_{12} & v_{13} & \\dots & v_{1n} \\\\\n",
    "    v_{21}       & v_{22} & v_{23} & \\dots & v_{2n} \\\\\n",
    "    v_{31}       & v_{32} & v_{33} & \\dots & v_{3n} \\\\\n",
    "    v_{41}       & ??? & v_{43} & \\dots & v_{4n} \\\\\n",
    "    \\vdots       & \\vdots & \\vdots & \\ddots& \\vdots \\\\\n",
    "    v_{m1}       & v_{m2} & v_{m3} & \\dots & v_{mn}\n",
    "\\end{bmatrix}$$\n",
    "\n",
    "<details>\n",
    "  <summary>NMF</summary>\n",
    "  \n",
    "  \n",
    "$$\\begin{bmatrix}\n",
    "    v_{11}       & v_{12} & v_{13} & \\dots & v_{1n} \\\\\n",
    "    v_{21}       & v_{22} & v_{23} & \\dots & v_{2n} \\\\\n",
    "    v_{31}       & v_{32} & v_{33} & \\dots & v_{3n} \\\\\n",
    "    v_{41}       & ??? & v_{43} & \\dots & v_{4n} \\\\\n",
    "    \\vdots       & \\vdots & \\vdots & \\ddots& \\vdots \\\\\n",
    "    v_{m1}       & v_{m2} & v_{m3} & \\dots & v_{mn}\n",
    "\\end{bmatrix}\n",
    "=\n",
    "\\begin{bmatrix}\n",
    "    w_{11}       & \\dots & w_{1r} \\\\\n",
    "    w_{21}       & \\dots & w_{2r} \\\\\n",
    "    w_{31}       & \\dots & w_{3r} \\\\\n",
    "    w_{41}       & \\dots & w_{4r} \\\\\n",
    "    \\vdots       & \\ddots& \\vdots \\\\\n",
    "    w_{m1}       & \\dots & w_{mr}\n",
    "\\end{bmatrix}\n",
    "\\begin{bmatrix}\n",
    "    h_{11}       & h_{12} & h_{13} & \\dots & h_{1n} \\\\\n",
    "    \\vdots       & \\vdots & \\vdots & \\ddots& \\vdots \\\\\n",
    "    h_{r1}       & h_{r2} & h_{r3} & \\dots & h_{rn}\n",
    "\\end{bmatrix}\n",
    "$$\n",
    "</details>\n"
   ]
  },
  {
   "cell_type": "markdown",
   "metadata": {},
   "source": [
    "## Extra: \n",
    "\n",
    "### part 1: The family of `trillion dollar algorithms`"
   ]
  },
  {
   "cell_type": "markdown",
   "metadata": {},
   "source": [
    "1. PageRank (Google) \n",
    "2. NMF (Netflix, Amazon, etc)\n",
    "3. Fast Fourier Transformation (Everywhere)\n",
    "4. Kalman Filter & Viterbi, etc (Everywhere)"
   ]
  },
  {
   "cell_type": "markdown",
   "metadata": {},
   "source": [
    "###  Part 2: Embedding/encoding everything\n",
    "\n",
    "> With or without a [`kernel`](https://en.wikipedia.org/wiki/Kernel_method)."
   ]
  },
  {
   "cell_type": "markdown",
   "metadata": {},
   "source": [
    "1. word2vec\n",
    "    <img src=\"https://miro.medium.com/max/3902/1*hELlVp9hmZbDZVFstS61pg.png\" width=\"50%\"></img>\n",
    "2. graph embedding (social network embedding)\n",
    "    <img src=\"https://miro.medium.com/max/5510/1*3up8dT7sjf5UsMR9UfGvxw.png\" width=\"50%\"></img>\n",
    "3. sentence embedding\n",
    "    <img src=\"https://miro.medium.com/max/2348/0*m_kXt3uqZH9e7H4w.png\" width=\"70%\"></img>\n"
   ]
  }
 ],
 "metadata": {
  "kernelspec": {
   "display_name": "Python 3",
   "language": "python",
   "name": "python3"
  },
  "language_info": {
   "codemirror_mode": {
    "name": "ipython",
    "version": 3
   },
   "file_extension": ".py",
   "mimetype": "text/x-python",
   "name": "python",
   "nbconvert_exporter": "python",
   "pygments_lexer": "ipython3",
   "version": "3.8.5"
  },
  "toc": {
   "base_numbering": 1,
   "nav_menu": {},
   "number_sections": true,
   "sideBar": true,
   "skip_h1_title": true,
   "title_cell": "Table of Contents",
   "title_sidebar": "Contents",
   "toc_cell": true,
   "toc_position": {
    "height": "calc(100% - 180px)",
    "left": "10px",
    "top": "150px",
    "width": "165px"
   },
   "toc_section_display": true,
   "toc_window_display": true
  }
 },
 "nbformat": 4,
 "nbformat_minor": 4
}
